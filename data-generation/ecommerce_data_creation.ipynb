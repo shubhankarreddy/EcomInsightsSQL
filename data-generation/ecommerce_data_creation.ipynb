{
 "cells": [
  {
   "metadata": {
    "jupyter": {
     "is_executing": true
    }
   },
   "cell_type": "code",
   "source": [
    "from faker import Faker\n",
    "import random\n",
    "import pandas as pd\n",
    "import os\n",
    "\n",
    "# Initialize Faker instance\n",
    "fake = Faker()\n",
    "\n",
    "# Set a seed for reproducibility\n",
    "random.seed(42)\n",
    "\n",
    "# Create 'data' directory if not exists\n",
    "if not os.path.exists('data'):\n",
    "    os.makedirs('data')\n",
    "\n",
    "def generate_supplier_data(num_records=35):\n",
    "    \"\"\"Generate synthetic supplier data\"\"\"\n",
    "    countries = ['China', 'USA', 'Taiwan', 'Vietnam', 'Mexico', 'Germany', 'Japan', 'South Korea']\n",
    "    suppliers = []\n",
    "\n",
    "    for _ in range(num_records):\n",
    "        supplier = {\n",
    "            'supplier_id': _,\n",
    "            'supplier_name': fake.company(),\n",
    "            'country': random.choice(countries),\n",
    "            'reliability_score': round(random.uniform(60, 100), 2),\n",
    "            'lead_time_days': random.randint(15, 90),\n",
    "            'annual_supply_volume': random.randint(5000, 500000)\n",
    "        }\n",
    "        suppliers.append(supplier)\n",
    "\n",
    "    df = pd.DataFrame(suppliers)\n",
    "    df.to_csv('data/suppliers.csv', index=False)\n",
    "    return df\n",
    "\n",
    "def generate_product_data(num_records=250):\n",
    "    \"\"\"Generate synthetic product data\"\"\"\n",
    "    categories = ['Laptops', 'Smartphones', 'Accessories', 'Tablets']\n",
    "    brands = ['Samsung', 'Apple', 'Dell', 'HP', 'Lenovo', 'Asus', 'Acer']\n",
    "    products = []\n",
    "\n",
    "    for _ in range(num_records):\n",
    "        base_price = round(random.uniform(100, 3000), 2)\n",
    "        manufacturing_cost = round(base_price * random.uniform(0.4, 0.7), 2)\n",
    "\n",
    "        product = {\n",
    "            'product_id': _,\n",
    "            'product_name': f\"{fake.word()} {random.choice(brands)} {random.choice(categories)}\",\n",
    "            'category': random.choice(categories),\n",
    "            'sub_category': fake.word(),\n",
    "            'brand': random.choice(brands),\n",
    "            'base_price': base_price,\n",
    "            'manufacturing_cost': manufacturing_cost,\n",
    "            'warranty_months': random.randint(6, 36)\n",
    "        }\n",
    "        products.append(product)\n",
    "\n",
    "    df = pd.DataFrame(products)\n",
    "    df.to_csv('data/products.csv', index=False)\n",
    "    return df\n",
    "\n",
    "# Similarly for inventory, sales, and shipping routes functions...\n",
    "\n",
    "# Generate all datasets\n",
    "suppliers_df = generate_supplier_data()\n",
    "products_df = generate_product_data()\n",
    "\n",
    "print(\"Data generation complete. Files saved in the 'data' directory.\")"
   ],
   "id": "bfd011003813ac3e",
   "outputs": [],
   "execution_count": null
  }
 ],
 "metadata": {
  "kernelspec": {
   "display_name": "Python 3",
   "language": "python",
   "name": "python3"
  },
  "language_info": {
   "codemirror_mode": {
    "name": "ipython",
    "version": 2
   },
   "file_extension": ".py",
   "mimetype": "text/x-python",
   "name": "python",
   "nbconvert_exporter": "python",
   "pygments_lexer": "ipython2",
   "version": "2.7.6"
  }
 },
 "nbformat": 4,
 "nbformat_minor": 5
}
